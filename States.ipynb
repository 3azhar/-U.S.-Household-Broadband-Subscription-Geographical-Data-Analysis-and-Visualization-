{
 "cells": [
  {
   "cell_type": "markdown",
   "id": "469e933d-39d1-47db-a948-c8961b496dfc",
   "metadata": {},
   "source": [
    "# Demo 5.2 acs5 Data Profile (*acs/acs5/profile*)    \n",
    "\n",
    "- Census Dataset:  *acs/acs5/profile*   \n",
    "\n",
    "- **Vintage: 2022**    \n",
    " \n",
    "- **Examples**: https://api.census.gov/data/2022/acs/acs5/profile/examples.html  \n",
    "- **Variables**:  https://api.census.gov/data/2022/acs/acs5/profile/variables.html \n",
    "- **Home Page**: https://www.census.gov/data/developers/data-sets/acs-5year.html  \n",
    " \n",
    "\n",
    "\n",
    "\n",
    "\n",
    "- **Question**:  What is the percent of population for each NC County  who have a Graduate degrees and who are 25 or older?     \n",
    "\n",
    "  \n"
   ]
  },
  {
   "cell_type": "code",
   "execution_count": 1,
   "id": "1f7ea856-0600-452b-b2ae-1572e6a679b4",
   "metadata": {},
   "outputs": [],
   "source": [
    "import pandas as pd\n",
    "import json\n",
    "import requests\n",
    "import pprint\n",
    "\n",
    "import plotly.express as px"
   ]
  },
  {
   "cell_type": "markdown",
   "id": "dc05df3f",
   "metadata": {},
   "source": [
    "# Get Data from API Call  "
   ]
  },
  {
   "cell_type": "markdown",
   "id": "484de62a-4773-4958-a08d-5c486e9b23bb",
   "metadata": {},
   "source": [
    "### 1. Build the API Request URL"
   ]
  },
  {
   "cell_type": "markdown",
   "id": "4b14d038-60bb-4cc0-a6dd-94004f9bd803",
   "metadata": {},
   "source": [
    "### 1. How to Start your Data Request  \n",
    "- Requests always begin with: https://api.census.gov/data  "
   ]
  },
  {
   "cell_type": "code",
   "execution_count": 2,
   "id": "ca765e9e-fd1c-4ce0-97d1-bc41525131ee",
   "metadata": {},
   "outputs": [],
   "source": [
    "base_url = \"https://api.census.gov/data\""
   ]
  },
  {
   "cell_type": "markdown",
   "id": "afebe9e0-98a7-432d-b211-73db3dfbafef",
   "metadata": {},
   "source": [
    "### 2. Add the Dataset Name\n"
   ]
  },
  {
   "cell_type": "code",
   "execution_count": 3,
   "id": "38c9a86f-d581-43d5-8459-d205fa25a10b",
   "metadata": {},
   "outputs": [],
   "source": [
    "dataset_name = \"/2022/acs/acs5/profile\""
   ]
  },
  {
   "cell_type": "markdown",
   "id": "1d8ac627-cfa4-44de-8e69-6276ab0fd473",
   "metadata": {},
   "source": [
    "### 3. Start your Variable Request\n"
   ]
  },
  {
   "cell_type": "code",
   "execution_count": 4,
   "id": "daf2c356-61db-4fac-9461-d1f763d91d15",
   "metadata": {},
   "outputs": [],
   "source": [
    "get_start = \"?get=\""
   ]
  },
  {
   "cell_type": "markdown",
   "id": "2b620f7c-213d-4d63-aa61-49d97929dd9b",
   "metadata": {},
   "source": [
    "### 4. Add your Variables  \n",
    "- **DP02_0066PE**: Percent of Population 25 years and over with Graduate or professional degree\n"
   ]
  },
  {
   "cell_type": "code",
   "execution_count": 5,
   "id": "3112b5bc-43cb-4222-a1f0-f2c1225fc826",
   "metadata": {},
   "outputs": [],
   "source": [
    "get_variables = \"NAME,DP02_0154E,DP02_0154PE\""
   ]
  },
  {
   "cell_type": "markdown",
   "id": "cdadd63b-d9d5-4912-b19a-f2ad7894cf39",
   "metadata": {},
   "source": [
    "###   5. Add your Geography  \n"
   ]
  },
  {
   "cell_type": "code",
   "execution_count": 6,
   "id": "2ecb8924-df52-49f4-8c71-07fa99e9201d",
   "metadata": {},
   "outputs": [],
   "source": [
    "#geography = \"&for=state:*\"\n",
    "geography = \"&for=state:*\""
   ]
  },
  {
   "cell_type": "markdown",
   "id": "d9165204-24a1-43f4-8f3d-068aaf9920dc",
   "metadata": {},
   "source": [
    "###   6. Put it all Together "
   ]
  },
  {
   "cell_type": "code",
   "execution_count": 7,
   "id": "3901e745-60dd-4938-90a1-c56d1b86892c",
   "metadata": {},
   "outputs": [
    {
     "name": "stdout",
     "output_type": "stream",
     "text": [
      "request_url =  https://api.census.gov/data/2022/acs/acs5/profile?get=NAME,DP02_0154E,DP02_0154PE&for=state:*\n"
     ]
    }
   ],
   "source": [
    "request_url = base_url + dataset_name + get_start + get_variables + geography\n",
    "print(\"request_url = \", request_url)"
   ]
  },
  {
   "cell_type": "markdown",
   "id": "a3df3db3-7861-4302-83ed-5d7f27c781ed",
   "metadata": {},
   "source": [
    "### 2. Use *requests* library to make the API call"
   ]
  },
  {
   "cell_type": "code",
   "execution_count": 8,
   "id": "9903734f-1da9-47a6-9563-1d7bc7cfc6ab",
   "metadata": {},
   "outputs": [],
   "source": [
    "# Make API Call\n",
    "r = requests.get(request_url)\n",
    "\n",
    "api_results = r.json()"
   ]
  },
  {
   "cell_type": "code",
   "execution_count": 9,
   "id": "f5c36728-947f-48f9-bfd8-5b658b5f2d89",
   "metadata": {},
   "outputs": [
    {
     "name": "stdout",
     "output_type": "stream",
     "text": [
      "[['NAME', 'DP02_0154E', 'DP02_0154PE', 'state'], ['Alabama', '1619717', '83.8', '01'], ['Alaska', '236265', '89.4', '02'], ['Arizona', '2443288', '89.2', '04'], ['Arkansas', '965688', '82.4', '05'], ['California', '12177584', '91.5', '06'], ['Colorado', '2091383', '91.8', '08'], ['Connecticut', '1269855', '90.1', '09'], ['Delaware', '351432', '90.3', '10'], ['District of Columbia', '281132', '89.0', '11'], ['Florida', '7417320', '88.8', '12'], ['Georgia', '3464027', '87.8', '13'], ['Hawaii', '434531', '89.8', '15'], ['Idaho', '606182', '89.8', '16'], ['Illinois', '4379346', '88.1', '17'], ['Indiana', '2301440', '86.7', '18'], ['Iowa', '1112880', '86.3', '19'], ['Kansas', '1010155', '87.9', '20'], ['Kentucky', '1513993', '85.6', '21'], ['Louisiana', '1464943', '83.0', '22'], ['Maine', '506690', '87.3', '23'], ['Maryland', '2099376', '90.6', '24'], ['Massachusetts', '2485271', '90.7', '25'], ['Michigan', '3520966', '87.8', '26'], ['Minnesota', '2024014', '89.7', '27'], ['Mississippi', '897278', '80.0', '28'], ['Missouri', '2128174', '86.6', '29'], ['Montana', '384510', '86.6', '30'], ['Nebraska', '686036', '88.4', '31'], ['Nevada', '1032647', '88.7', '32'], ['New Hampshire', '496116', '91.0', '33'], ['New Jersey', '3114268', '90.6', '34'], ['New Mexico', '664257', '81.7', '35'], ['New York', '6706160', '88.2', '36'], ['North Carolina', '3570387', '87.0', '37'], ['North Dakota', '274725', '85.8', '38'], ['Ohio', '4195384', '87.6', '39'], ['Oklahoma', '1303713', '85.6', '40'], ['Oregon', '1521554', '90.5', '41'], ['Pennsylvania', '4525824', '87.1', '42'], ['Rhode Island', '385385', '89.2', '44'], ['South Carolina', '1720307', '85.0', '45'], ['South Dakota', '304674', '86.8', '46'], ['Tennessee', '2326835', '85.7', '47'], ['Texas', '9274077', '88.4', '48'], ['Utah', '976939', '91.9', '49'], ['Vermont', '228889', '86.1', '50'], ['Virginia', '2917604', '88.7', '51'], ['Washington', '2743870', '92.1', '53'], ['West Virginia', '592033', '82.7', '54'], ['Wisconsin', '2128290', '87.7', '55'], ['Wyoming', '206500', '88.2', '56'], ['Puerto Rico', None, None, '72']]\n"
     ]
    }
   ],
   "source": [
    "print(api_results)"
   ]
  },
  {
   "cell_type": "code",
   "execution_count": 10,
   "id": "fb5d2f24-c45a-4d00-9d4d-54c12cea72c2",
   "metadata": {},
   "outputs": [
    {
     "name": "stdout",
     "output_type": "stream",
     "text": [
      "[['NAME', 'DP02_0154E', 'DP02_0154PE', 'state'],\n",
      " ['Alabama', '1619717', '83.8', '01'],\n",
      " ['Alaska', '236265', '89.4', '02'],\n",
      " ['Arizona', '2443288', '89.2', '04'],\n",
      " ['Arkansas', '965688', '82.4', '05'],\n",
      " ['California', '12177584', '91.5', '06'],\n",
      " ['Colorado', '2091383', '91.8', '08'],\n",
      " ['Connecticut', '1269855', '90.1', '09'],\n",
      " ['Delaware', '351432', '90.3', '10'],\n",
      " ['District of Columbia', '281132', '89.0', '11'],\n",
      " ['Florida', '7417320', '88.8', '12'],\n",
      " ['Georgia', '3464027', '87.8', '13'],\n",
      " ['Hawaii', '434531', '89.8', '15'],\n",
      " ['Idaho', '606182', '89.8', '16'],\n",
      " ['Illinois', '4379346', '88.1', '17'],\n",
      " ['Indiana', '2301440', '86.7', '18'],\n",
      " ['Iowa', '1112880', '86.3', '19'],\n",
      " ['Kansas', '1010155', '87.9', '20'],\n",
      " ['Kentucky', '1513993', '85.6', '21'],\n",
      " ['Louisiana', '1464943', '83.0', '22'],\n",
      " ['Maine', '506690', '87.3', '23'],\n",
      " ['Maryland', '2099376', '90.6', '24'],\n",
      " ['Massachusetts', '2485271', '90.7', '25'],\n",
      " ['Michigan', '3520966', '87.8', '26'],\n",
      " ['Minnesota', '2024014', '89.7', '27'],\n",
      " ['Mississippi', '897278', '80.0', '28'],\n",
      " ['Missouri', '2128174', '86.6', '29'],\n",
      " ['Montana', '384510', '86.6', '30'],\n",
      " ['Nebraska', '686036', '88.4', '31'],\n",
      " ['Nevada', '1032647', '88.7', '32'],\n",
      " ['New Hampshire', '496116', '91.0', '33'],\n",
      " ['New Jersey', '3114268', '90.6', '34'],\n",
      " ['New Mexico', '664257', '81.7', '35'],\n",
      " ['New York', '6706160', '88.2', '36'],\n",
      " ['North Carolina', '3570387', '87.0', '37'],\n",
      " ['North Dakota', '274725', '85.8', '38'],\n",
      " ['Ohio', '4195384', '87.6', '39'],\n",
      " ['Oklahoma', '1303713', '85.6', '40'],\n",
      " ['Oregon', '1521554', '90.5', '41'],\n",
      " ['Pennsylvania', '4525824', '87.1', '42'],\n",
      " ['Rhode Island', '385385', '89.2', '44'],\n",
      " ['South Carolina', '1720307', '85.0', '45'],\n",
      " ['South Dakota', '304674', '86.8', '46'],\n",
      " ['Tennessee', '2326835', '85.7', '47'],\n",
      " ['Texas', '9274077', '88.4', '48'],\n",
      " ['Utah', '976939', '91.9', '49'],\n",
      " ['Vermont', '228889', '86.1', '50'],\n",
      " ['Virginia', '2917604', '88.7', '51'],\n",
      " ['Washington', '2743870', '92.1', '53'],\n",
      " ['West Virginia', '592033', '82.7', '54'],\n",
      " ['Wisconsin', '2128290', '87.7', '55'],\n",
      " ['Wyoming', '206500', '88.2', '56'],\n",
      " ['Puerto Rico', None, None, '72']]\n"
     ]
    }
   ],
   "source": [
    "#pprint makes it possible to see the structure of the returned data -- but it can be very, very long!\n",
    "pprint.pprint(api_results)"
   ]
  },
  {
   "cell_type": "code",
   "execution_count": 11,
   "id": "6ff76336-4831-451b-a4d7-c8674e90a8e1",
   "metadata": {},
   "outputs": [
    {
     "data": {
      "text/plain": [
       "list"
      ]
     },
     "execution_count": 11,
     "metadata": {},
     "output_type": "execute_result"
    }
   ],
   "source": [
    "type(api_results)"
   ]
  },
  {
   "cell_type": "markdown",
   "id": "f98cddaf-65c6-4b0c-bb5b-ce812e770f4a",
   "metadata": {},
   "source": [
    "### 3. Get the data into a Dataframe  \n",
    "- These Census Data results are in a list and have a specific form:  \n",
    "  - The first element is a list of column names  \n",
    "  - The remaining list elements are data  \n",
    "  \n",
    "  "
   ]
  },
  {
   "cell_type": "code",
   "execution_count": 12,
   "id": "7db78496-f09e-4308-9818-6668c3105b77",
   "metadata": {},
   "outputs": [
    {
     "name": "stdout",
     "output_type": "stream",
     "text": [
      "(53, 4)\n"
     ]
    },
    {
     "data": {
      "text/html": [
       "<div>\n",
       "<style scoped>\n",
       "    .dataframe tbody tr th:only-of-type {\n",
       "        vertical-align: middle;\n",
       "    }\n",
       "\n",
       "    .dataframe tbody tr th {\n",
       "        vertical-align: top;\n",
       "    }\n",
       "\n",
       "    .dataframe thead th {\n",
       "        text-align: right;\n",
       "    }\n",
       "</style>\n",
       "<table border=\"1\" class=\"dataframe\">\n",
       "  <thead>\n",
       "    <tr style=\"text-align: right;\">\n",
       "      <th></th>\n",
       "      <th>0</th>\n",
       "      <th>1</th>\n",
       "      <th>2</th>\n",
       "      <th>3</th>\n",
       "    </tr>\n",
       "  </thead>\n",
       "  <tbody>\n",
       "    <tr>\n",
       "      <th>0</th>\n",
       "      <td>NAME</td>\n",
       "      <td>DP02_0154E</td>\n",
       "      <td>DP02_0154PE</td>\n",
       "      <td>state</td>\n",
       "    </tr>\n",
       "    <tr>\n",
       "      <th>1</th>\n",
       "      <td>Alabama</td>\n",
       "      <td>1619717</td>\n",
       "      <td>83.8</td>\n",
       "      <td>01</td>\n",
       "    </tr>\n",
       "    <tr>\n",
       "      <th>2</th>\n",
       "      <td>Alaska</td>\n",
       "      <td>236265</td>\n",
       "      <td>89.4</td>\n",
       "      <td>02</td>\n",
       "    </tr>\n",
       "    <tr>\n",
       "      <th>3</th>\n",
       "      <td>Arizona</td>\n",
       "      <td>2443288</td>\n",
       "      <td>89.2</td>\n",
       "      <td>04</td>\n",
       "    </tr>\n",
       "    <tr>\n",
       "      <th>4</th>\n",
       "      <td>Arkansas</td>\n",
       "      <td>965688</td>\n",
       "      <td>82.4</td>\n",
       "      <td>05</td>\n",
       "    </tr>\n",
       "  </tbody>\n",
       "</table>\n",
       "</div>"
      ],
      "text/plain": [
       "          0           1            2      3\n",
       "0      NAME  DP02_0154E  DP02_0154PE  state\n",
       "1   Alabama     1619717         83.8     01\n",
       "2    Alaska      236265         89.4     02\n",
       "3   Arizona     2443288         89.2     04\n",
       "4  Arkansas      965688         82.4     05"
      ]
     },
     "execution_count": 12,
     "metadata": {},
     "output_type": "execute_result"
    }
   ],
   "source": [
    "df = pd.DataFrame(api_results)\n",
    "\n",
    "print(df.shape)\n",
    "df.head()"
   ]
  },
  {
   "cell_type": "markdown",
   "id": "d6c648fb-8264-407c-8041-b3afeda10fe8",
   "metadata": {},
   "source": [
    "### 4. Get the first Row into columns and then get rid of it  "
   ]
  },
  {
   "cell_type": "code",
   "execution_count": 13,
   "id": "da717937-b9df-4443-a18e-8c3fe66e7381",
   "metadata": {},
   "outputs": [
    {
     "name": "stdout",
     "output_type": "stream",
     "text": [
      "5.2 Demo acs5 - 2022 Vintage\n",
      "(52, 4)\n"
     ]
    },
    {
     "data": {
      "text/html": [
       "<div>\n",
       "<style scoped>\n",
       "    .dataframe tbody tr th:only-of-type {\n",
       "        vertical-align: middle;\n",
       "    }\n",
       "\n",
       "    .dataframe tbody tr th {\n",
       "        vertical-align: top;\n",
       "    }\n",
       "\n",
       "    .dataframe thead th {\n",
       "        text-align: right;\n",
       "    }\n",
       "</style>\n",
       "<table border=\"1\" class=\"dataframe\">\n",
       "  <thead>\n",
       "    <tr style=\"text-align: right;\">\n",
       "      <th></th>\n",
       "      <th>NAME</th>\n",
       "      <th>DP02_0154E</th>\n",
       "      <th>DP02_0154PE</th>\n",
       "      <th>state</th>\n",
       "    </tr>\n",
       "  </thead>\n",
       "  <tbody>\n",
       "    <tr>\n",
       "      <th>1</th>\n",
       "      <td>Alabama</td>\n",
       "      <td>1619717</td>\n",
       "      <td>83.8</td>\n",
       "      <td>01</td>\n",
       "    </tr>\n",
       "    <tr>\n",
       "      <th>2</th>\n",
       "      <td>Alaska</td>\n",
       "      <td>236265</td>\n",
       "      <td>89.4</td>\n",
       "      <td>02</td>\n",
       "    </tr>\n",
       "    <tr>\n",
       "      <th>3</th>\n",
       "      <td>Arizona</td>\n",
       "      <td>2443288</td>\n",
       "      <td>89.2</td>\n",
       "      <td>04</td>\n",
       "    </tr>\n",
       "    <tr>\n",
       "      <th>4</th>\n",
       "      <td>Arkansas</td>\n",
       "      <td>965688</td>\n",
       "      <td>82.4</td>\n",
       "      <td>05</td>\n",
       "    </tr>\n",
       "    <tr>\n",
       "      <th>5</th>\n",
       "      <td>California</td>\n",
       "      <td>12177584</td>\n",
       "      <td>91.5</td>\n",
       "      <td>06</td>\n",
       "    </tr>\n",
       "  </tbody>\n",
       "</table>\n",
       "</div>"
      ],
      "text/plain": [
       "0        NAME DP02_0154E DP02_0154PE state\n",
       "1     Alabama    1619717        83.8    01\n",
       "2      Alaska     236265        89.4    02\n",
       "3     Arizona    2443288        89.2    04\n",
       "4    Arkansas     965688        82.4    05\n",
       "5  California   12177584        91.5    06"
      ]
     },
     "execution_count": 13,
     "metadata": {},
     "output_type": "execute_result"
    }
   ],
   "source": [
    "df.columns = df.iloc[0]\n",
    "\n",
    "df =df.iloc[1:]\n",
    "\n",
    "print(\"5.2 Demo acs5 - 2022 Vintage\")\n",
    "print(df.shape)\n",
    "df.head()"
   ]
  },
  {
   "cell_type": "markdown",
   "id": "f5186c95",
   "metadata": {},
   "source": [
    "# Change Data Types as Needed"
   ]
  },
  {
   "cell_type": "code",
   "execution_count": 14,
   "id": "5022c2e9",
   "metadata": {},
   "outputs": [
    {
     "data": {
      "text/plain": [
       "0\n",
       "NAME           object\n",
       "DP02_0154E     object\n",
       "DP02_0154PE    object\n",
       "state          object\n",
       "dtype: object"
      ]
     },
     "execution_count": 14,
     "metadata": {},
     "output_type": "execute_result"
    }
   ],
   "source": [
    "df.dtypes"
   ]
  },
  {
   "cell_type": "code",
   "execution_count": 15,
   "id": "9eb8707e",
   "metadata": {},
   "outputs": [
    {
     "data": {
      "text/html": [
       "<div>\n",
       "<style scoped>\n",
       "    .dataframe tbody tr th:only-of-type {\n",
       "        vertical-align: middle;\n",
       "    }\n",
       "\n",
       "    .dataframe tbody tr th {\n",
       "        vertical-align: top;\n",
       "    }\n",
       "\n",
       "    .dataframe thead th {\n",
       "        text-align: right;\n",
       "    }\n",
       "</style>\n",
       "<table border=\"1\" class=\"dataframe\">\n",
       "  <thead>\n",
       "    <tr style=\"text-align: right;\">\n",
       "      <th></th>\n",
       "      <th>NAME</th>\n",
       "      <th>DP02_0154E</th>\n",
       "      <th>DP02_0154PE</th>\n",
       "      <th>state</th>\n",
       "    </tr>\n",
       "  </thead>\n",
       "  <tbody>\n",
       "    <tr>\n",
       "      <th>1</th>\n",
       "      <td>Alabama</td>\n",
       "      <td>1619717</td>\n",
       "      <td>83.8</td>\n",
       "      <td>01</td>\n",
       "    </tr>\n",
       "    <tr>\n",
       "      <th>2</th>\n",
       "      <td>Alaska</td>\n",
       "      <td>236265</td>\n",
       "      <td>89.4</td>\n",
       "      <td>02</td>\n",
       "    </tr>\n",
       "    <tr>\n",
       "      <th>3</th>\n",
       "      <td>Arizona</td>\n",
       "      <td>2443288</td>\n",
       "      <td>89.2</td>\n",
       "      <td>04</td>\n",
       "    </tr>\n",
       "    <tr>\n",
       "      <th>4</th>\n",
       "      <td>Arkansas</td>\n",
       "      <td>965688</td>\n",
       "      <td>82.4</td>\n",
       "      <td>05</td>\n",
       "    </tr>\n",
       "    <tr>\n",
       "      <th>5</th>\n",
       "      <td>California</td>\n",
       "      <td>12177584</td>\n",
       "      <td>91.5</td>\n",
       "      <td>06</td>\n",
       "    </tr>\n",
       "  </tbody>\n",
       "</table>\n",
       "</div>"
      ],
      "text/plain": [
       "0        NAME DP02_0154E DP02_0154PE state\n",
       "1     Alabama    1619717        83.8    01\n",
       "2      Alaska     236265        89.4    02\n",
       "3     Arizona    2443288        89.2    04\n",
       "4    Arkansas     965688        82.4    05\n",
       "5  California   12177584        91.5    06"
      ]
     },
     "execution_count": 15,
     "metadata": {},
     "output_type": "execute_result"
    }
   ],
   "source": [
    "df.head()"
   ]
  },
  {
   "cell_type": "markdown",
   "id": "f60d0e66",
   "metadata": {},
   "source": [
    "# rename"
   ]
  },
  {
   "cell_type": "code",
   "execution_count": 16,
   "id": "02bfd648",
   "metadata": {},
   "outputs": [
    {
     "name": "stdout",
     "output_type": "stream",
     "text": [
      "(52, 4)\n"
     ]
    },
    {
     "data": {
      "text/html": [
       "<div>\n",
       "<style scoped>\n",
       "    .dataframe tbody tr th:only-of-type {\n",
       "        vertical-align: middle;\n",
       "    }\n",
       "\n",
       "    .dataframe tbody tr th {\n",
       "        vertical-align: top;\n",
       "    }\n",
       "\n",
       "    .dataframe thead th {\n",
       "        text-align: right;\n",
       "    }\n",
       "</style>\n",
       "<table border=\"1\" class=\"dataframe\">\n",
       "  <thead>\n",
       "    <tr style=\"text-align: right;\">\n",
       "      <th></th>\n",
       "      <th>State Name</th>\n",
       "      <th>Number of Households with a broadband Internet subscription</th>\n",
       "      <th>Percent of Households with a broadband Internet subscription</th>\n",
       "      <th>GEOID</th>\n",
       "    </tr>\n",
       "  </thead>\n",
       "  <tbody>\n",
       "    <tr>\n",
       "      <th>1</th>\n",
       "      <td>Alabama</td>\n",
       "      <td>1619717</td>\n",
       "      <td>83.8</td>\n",
       "      <td>01</td>\n",
       "    </tr>\n",
       "    <tr>\n",
       "      <th>2</th>\n",
       "      <td>Alaska</td>\n",
       "      <td>236265</td>\n",
       "      <td>89.4</td>\n",
       "      <td>02</td>\n",
       "    </tr>\n",
       "    <tr>\n",
       "      <th>3</th>\n",
       "      <td>Arizona</td>\n",
       "      <td>2443288</td>\n",
       "      <td>89.2</td>\n",
       "      <td>04</td>\n",
       "    </tr>\n",
       "    <tr>\n",
       "      <th>4</th>\n",
       "      <td>Arkansas</td>\n",
       "      <td>965688</td>\n",
       "      <td>82.4</td>\n",
       "      <td>05</td>\n",
       "    </tr>\n",
       "    <tr>\n",
       "      <th>5</th>\n",
       "      <td>California</td>\n",
       "      <td>12177584</td>\n",
       "      <td>91.5</td>\n",
       "      <td>06</td>\n",
       "    </tr>\n",
       "    <tr>\n",
       "      <th>6</th>\n",
       "      <td>Colorado</td>\n",
       "      <td>2091383</td>\n",
       "      <td>91.8</td>\n",
       "      <td>08</td>\n",
       "    </tr>\n",
       "    <tr>\n",
       "      <th>7</th>\n",
       "      <td>Connecticut</td>\n",
       "      <td>1269855</td>\n",
       "      <td>90.1</td>\n",
       "      <td>09</td>\n",
       "    </tr>\n",
       "    <tr>\n",
       "      <th>8</th>\n",
       "      <td>Delaware</td>\n",
       "      <td>351432</td>\n",
       "      <td>90.3</td>\n",
       "      <td>10</td>\n",
       "    </tr>\n",
       "    <tr>\n",
       "      <th>9</th>\n",
       "      <td>District of Columbia</td>\n",
       "      <td>281132</td>\n",
       "      <td>89.0</td>\n",
       "      <td>11</td>\n",
       "    </tr>\n",
       "    <tr>\n",
       "      <th>10</th>\n",
       "      <td>Florida</td>\n",
       "      <td>7417320</td>\n",
       "      <td>88.8</td>\n",
       "      <td>12</td>\n",
       "    </tr>\n",
       "    <tr>\n",
       "      <th>11</th>\n",
       "      <td>Georgia</td>\n",
       "      <td>3464027</td>\n",
       "      <td>87.8</td>\n",
       "      <td>13</td>\n",
       "    </tr>\n",
       "    <tr>\n",
       "      <th>12</th>\n",
       "      <td>Hawaii</td>\n",
       "      <td>434531</td>\n",
       "      <td>89.8</td>\n",
       "      <td>15</td>\n",
       "    </tr>\n",
       "    <tr>\n",
       "      <th>13</th>\n",
       "      <td>Idaho</td>\n",
       "      <td>606182</td>\n",
       "      <td>89.8</td>\n",
       "      <td>16</td>\n",
       "    </tr>\n",
       "    <tr>\n",
       "      <th>14</th>\n",
       "      <td>Illinois</td>\n",
       "      <td>4379346</td>\n",
       "      <td>88.1</td>\n",
       "      <td>17</td>\n",
       "    </tr>\n",
       "    <tr>\n",
       "      <th>15</th>\n",
       "      <td>Indiana</td>\n",
       "      <td>2301440</td>\n",
       "      <td>86.7</td>\n",
       "      <td>18</td>\n",
       "    </tr>\n",
       "    <tr>\n",
       "      <th>16</th>\n",
       "      <td>Iowa</td>\n",
       "      <td>1112880</td>\n",
       "      <td>86.3</td>\n",
       "      <td>19</td>\n",
       "    </tr>\n",
       "    <tr>\n",
       "      <th>17</th>\n",
       "      <td>Kansas</td>\n",
       "      <td>1010155</td>\n",
       "      <td>87.9</td>\n",
       "      <td>20</td>\n",
       "    </tr>\n",
       "    <tr>\n",
       "      <th>18</th>\n",
       "      <td>Kentucky</td>\n",
       "      <td>1513993</td>\n",
       "      <td>85.6</td>\n",
       "      <td>21</td>\n",
       "    </tr>\n",
       "    <tr>\n",
       "      <th>19</th>\n",
       "      <td>Louisiana</td>\n",
       "      <td>1464943</td>\n",
       "      <td>83.0</td>\n",
       "      <td>22</td>\n",
       "    </tr>\n",
       "    <tr>\n",
       "      <th>20</th>\n",
       "      <td>Maine</td>\n",
       "      <td>506690</td>\n",
       "      <td>87.3</td>\n",
       "      <td>23</td>\n",
       "    </tr>\n",
       "    <tr>\n",
       "      <th>21</th>\n",
       "      <td>Maryland</td>\n",
       "      <td>2099376</td>\n",
       "      <td>90.6</td>\n",
       "      <td>24</td>\n",
       "    </tr>\n",
       "    <tr>\n",
       "      <th>22</th>\n",
       "      <td>Massachusetts</td>\n",
       "      <td>2485271</td>\n",
       "      <td>90.7</td>\n",
       "      <td>25</td>\n",
       "    </tr>\n",
       "    <tr>\n",
       "      <th>23</th>\n",
       "      <td>Michigan</td>\n",
       "      <td>3520966</td>\n",
       "      <td>87.8</td>\n",
       "      <td>26</td>\n",
       "    </tr>\n",
       "    <tr>\n",
       "      <th>24</th>\n",
       "      <td>Minnesota</td>\n",
       "      <td>2024014</td>\n",
       "      <td>89.7</td>\n",
       "      <td>27</td>\n",
       "    </tr>\n",
       "    <tr>\n",
       "      <th>25</th>\n",
       "      <td>Mississippi</td>\n",
       "      <td>897278</td>\n",
       "      <td>80.0</td>\n",
       "      <td>28</td>\n",
       "    </tr>\n",
       "    <tr>\n",
       "      <th>26</th>\n",
       "      <td>Missouri</td>\n",
       "      <td>2128174</td>\n",
       "      <td>86.6</td>\n",
       "      <td>29</td>\n",
       "    </tr>\n",
       "    <tr>\n",
       "      <th>27</th>\n",
       "      <td>Montana</td>\n",
       "      <td>384510</td>\n",
       "      <td>86.6</td>\n",
       "      <td>30</td>\n",
       "    </tr>\n",
       "    <tr>\n",
       "      <th>28</th>\n",
       "      <td>Nebraska</td>\n",
       "      <td>686036</td>\n",
       "      <td>88.4</td>\n",
       "      <td>31</td>\n",
       "    </tr>\n",
       "    <tr>\n",
       "      <th>29</th>\n",
       "      <td>Nevada</td>\n",
       "      <td>1032647</td>\n",
       "      <td>88.7</td>\n",
       "      <td>32</td>\n",
       "    </tr>\n",
       "    <tr>\n",
       "      <th>30</th>\n",
       "      <td>New Hampshire</td>\n",
       "      <td>496116</td>\n",
       "      <td>91.0</td>\n",
       "      <td>33</td>\n",
       "    </tr>\n",
       "    <tr>\n",
       "      <th>31</th>\n",
       "      <td>New Jersey</td>\n",
       "      <td>3114268</td>\n",
       "      <td>90.6</td>\n",
       "      <td>34</td>\n",
       "    </tr>\n",
       "    <tr>\n",
       "      <th>32</th>\n",
       "      <td>New Mexico</td>\n",
       "      <td>664257</td>\n",
       "      <td>81.7</td>\n",
       "      <td>35</td>\n",
       "    </tr>\n",
       "    <tr>\n",
       "      <th>33</th>\n",
       "      <td>New York</td>\n",
       "      <td>6706160</td>\n",
       "      <td>88.2</td>\n",
       "      <td>36</td>\n",
       "    </tr>\n",
       "    <tr>\n",
       "      <th>34</th>\n",
       "      <td>North Carolina</td>\n",
       "      <td>3570387</td>\n",
       "      <td>87.0</td>\n",
       "      <td>37</td>\n",
       "    </tr>\n",
       "    <tr>\n",
       "      <th>35</th>\n",
       "      <td>North Dakota</td>\n",
       "      <td>274725</td>\n",
       "      <td>85.8</td>\n",
       "      <td>38</td>\n",
       "    </tr>\n",
       "    <tr>\n",
       "      <th>36</th>\n",
       "      <td>Ohio</td>\n",
       "      <td>4195384</td>\n",
       "      <td>87.6</td>\n",
       "      <td>39</td>\n",
       "    </tr>\n",
       "    <tr>\n",
       "      <th>37</th>\n",
       "      <td>Oklahoma</td>\n",
       "      <td>1303713</td>\n",
       "      <td>85.6</td>\n",
       "      <td>40</td>\n",
       "    </tr>\n",
       "    <tr>\n",
       "      <th>38</th>\n",
       "      <td>Oregon</td>\n",
       "      <td>1521554</td>\n",
       "      <td>90.5</td>\n",
       "      <td>41</td>\n",
       "    </tr>\n",
       "    <tr>\n",
       "      <th>39</th>\n",
       "      <td>Pennsylvania</td>\n",
       "      <td>4525824</td>\n",
       "      <td>87.1</td>\n",
       "      <td>42</td>\n",
       "    </tr>\n",
       "    <tr>\n",
       "      <th>40</th>\n",
       "      <td>Rhode Island</td>\n",
       "      <td>385385</td>\n",
       "      <td>89.2</td>\n",
       "      <td>44</td>\n",
       "    </tr>\n",
       "    <tr>\n",
       "      <th>41</th>\n",
       "      <td>South Carolina</td>\n",
       "      <td>1720307</td>\n",
       "      <td>85.0</td>\n",
       "      <td>45</td>\n",
       "    </tr>\n",
       "    <tr>\n",
       "      <th>42</th>\n",
       "      <td>South Dakota</td>\n",
       "      <td>304674</td>\n",
       "      <td>86.8</td>\n",
       "      <td>46</td>\n",
       "    </tr>\n",
       "    <tr>\n",
       "      <th>43</th>\n",
       "      <td>Tennessee</td>\n",
       "      <td>2326835</td>\n",
       "      <td>85.7</td>\n",
       "      <td>47</td>\n",
       "    </tr>\n",
       "    <tr>\n",
       "      <th>44</th>\n",
       "      <td>Texas</td>\n",
       "      <td>9274077</td>\n",
       "      <td>88.4</td>\n",
       "      <td>48</td>\n",
       "    </tr>\n",
       "    <tr>\n",
       "      <th>45</th>\n",
       "      <td>Utah</td>\n",
       "      <td>976939</td>\n",
       "      <td>91.9</td>\n",
       "      <td>49</td>\n",
       "    </tr>\n",
       "    <tr>\n",
       "      <th>46</th>\n",
       "      <td>Vermont</td>\n",
       "      <td>228889</td>\n",
       "      <td>86.1</td>\n",
       "      <td>50</td>\n",
       "    </tr>\n",
       "    <tr>\n",
       "      <th>47</th>\n",
       "      <td>Virginia</td>\n",
       "      <td>2917604</td>\n",
       "      <td>88.7</td>\n",
       "      <td>51</td>\n",
       "    </tr>\n",
       "    <tr>\n",
       "      <th>48</th>\n",
       "      <td>Washington</td>\n",
       "      <td>2743870</td>\n",
       "      <td>92.1</td>\n",
       "      <td>53</td>\n",
       "    </tr>\n",
       "    <tr>\n",
       "      <th>49</th>\n",
       "      <td>West Virginia</td>\n",
       "      <td>592033</td>\n",
       "      <td>82.7</td>\n",
       "      <td>54</td>\n",
       "    </tr>\n",
       "    <tr>\n",
       "      <th>50</th>\n",
       "      <td>Wisconsin</td>\n",
       "      <td>2128290</td>\n",
       "      <td>87.7</td>\n",
       "      <td>55</td>\n",
       "    </tr>\n",
       "    <tr>\n",
       "      <th>51</th>\n",
       "      <td>Wyoming</td>\n",
       "      <td>206500</td>\n",
       "      <td>88.2</td>\n",
       "      <td>56</td>\n",
       "    </tr>\n",
       "    <tr>\n",
       "      <th>52</th>\n",
       "      <td>Puerto Rico</td>\n",
       "      <td>None</td>\n",
       "      <td>None</td>\n",
       "      <td>72</td>\n",
       "    </tr>\n",
       "  </tbody>\n",
       "</table>\n",
       "</div>"
      ],
      "text/plain": [
       "0             State Name  \\\n",
       "1                Alabama   \n",
       "2                 Alaska   \n",
       "3                Arizona   \n",
       "4               Arkansas   \n",
       "5             California   \n",
       "6               Colorado   \n",
       "7            Connecticut   \n",
       "8               Delaware   \n",
       "9   District of Columbia   \n",
       "10               Florida   \n",
       "11               Georgia   \n",
       "12                Hawaii   \n",
       "13                 Idaho   \n",
       "14              Illinois   \n",
       "15               Indiana   \n",
       "16                  Iowa   \n",
       "17                Kansas   \n",
       "18              Kentucky   \n",
       "19             Louisiana   \n",
       "20                 Maine   \n",
       "21              Maryland   \n",
       "22         Massachusetts   \n",
       "23              Michigan   \n",
       "24             Minnesota   \n",
       "25           Mississippi   \n",
       "26              Missouri   \n",
       "27               Montana   \n",
       "28              Nebraska   \n",
       "29                Nevada   \n",
       "30         New Hampshire   \n",
       "31            New Jersey   \n",
       "32            New Mexico   \n",
       "33              New York   \n",
       "34        North Carolina   \n",
       "35          North Dakota   \n",
       "36                  Ohio   \n",
       "37              Oklahoma   \n",
       "38                Oregon   \n",
       "39          Pennsylvania   \n",
       "40          Rhode Island   \n",
       "41        South Carolina   \n",
       "42          South Dakota   \n",
       "43             Tennessee   \n",
       "44                 Texas   \n",
       "45                  Utah   \n",
       "46               Vermont   \n",
       "47              Virginia   \n",
       "48            Washington   \n",
       "49         West Virginia   \n",
       "50             Wisconsin   \n",
       "51               Wyoming   \n",
       "52           Puerto Rico   \n",
       "\n",
       "0  Number of Households with a broadband Internet subscription  \\\n",
       "1                                             1619717            \n",
       "2                                              236265            \n",
       "3                                             2443288            \n",
       "4                                              965688            \n",
       "5                                            12177584            \n",
       "6                                             2091383            \n",
       "7                                             1269855            \n",
       "8                                              351432            \n",
       "9                                              281132            \n",
       "10                                            7417320            \n",
       "11                                            3464027            \n",
       "12                                             434531            \n",
       "13                                             606182            \n",
       "14                                            4379346            \n",
       "15                                            2301440            \n",
       "16                                            1112880            \n",
       "17                                            1010155            \n",
       "18                                            1513993            \n",
       "19                                            1464943            \n",
       "20                                             506690            \n",
       "21                                            2099376            \n",
       "22                                            2485271            \n",
       "23                                            3520966            \n",
       "24                                            2024014            \n",
       "25                                             897278            \n",
       "26                                            2128174            \n",
       "27                                             384510            \n",
       "28                                             686036            \n",
       "29                                            1032647            \n",
       "30                                             496116            \n",
       "31                                            3114268            \n",
       "32                                             664257            \n",
       "33                                            6706160            \n",
       "34                                            3570387            \n",
       "35                                             274725            \n",
       "36                                            4195384            \n",
       "37                                            1303713            \n",
       "38                                            1521554            \n",
       "39                                            4525824            \n",
       "40                                             385385            \n",
       "41                                            1720307            \n",
       "42                                             304674            \n",
       "43                                            2326835            \n",
       "44                                            9274077            \n",
       "45                                             976939            \n",
       "46                                             228889            \n",
       "47                                            2917604            \n",
       "48                                            2743870            \n",
       "49                                             592033            \n",
       "50                                            2128290            \n",
       "51                                             206500            \n",
       "52                                               None            \n",
       "\n",
       "0  Percent of Households with a broadband Internet subscription GEOID  \n",
       "1                                                83.8              01  \n",
       "2                                                89.4              02  \n",
       "3                                                89.2              04  \n",
       "4                                                82.4              05  \n",
       "5                                                91.5              06  \n",
       "6                                                91.8              08  \n",
       "7                                                90.1              09  \n",
       "8                                                90.3              10  \n",
       "9                                                89.0              11  \n",
       "10                                               88.8              12  \n",
       "11                                               87.8              13  \n",
       "12                                               89.8              15  \n",
       "13                                               89.8              16  \n",
       "14                                               88.1              17  \n",
       "15                                               86.7              18  \n",
       "16                                               86.3              19  \n",
       "17                                               87.9              20  \n",
       "18                                               85.6              21  \n",
       "19                                               83.0              22  \n",
       "20                                               87.3              23  \n",
       "21                                               90.6              24  \n",
       "22                                               90.7              25  \n",
       "23                                               87.8              26  \n",
       "24                                               89.7              27  \n",
       "25                                               80.0              28  \n",
       "26                                               86.6              29  \n",
       "27                                               86.6              30  \n",
       "28                                               88.4              31  \n",
       "29                                               88.7              32  \n",
       "30                                               91.0              33  \n",
       "31                                               90.6              34  \n",
       "32                                               81.7              35  \n",
       "33                                               88.2              36  \n",
       "34                                               87.0              37  \n",
       "35                                               85.8              38  \n",
       "36                                               87.6              39  \n",
       "37                                               85.6              40  \n",
       "38                                               90.5              41  \n",
       "39                                               87.1              42  \n",
       "40                                               89.2              44  \n",
       "41                                               85.0              45  \n",
       "42                                               86.8              46  \n",
       "43                                               85.7              47  \n",
       "44                                               88.4              48  \n",
       "45                                               91.9              49  \n",
       "46                                               86.1              50  \n",
       "47                                               88.7              51  \n",
       "48                                               92.1              53  \n",
       "49                                               82.7              54  \n",
       "50                                               87.7              55  \n",
       "51                                               88.2              56  \n",
       "52                                               None              72  "
      ]
     },
     "execution_count": 16,
     "metadata": {},
     "output_type": "execute_result"
    }
   ],
   "source": [
    "cols_to_rename = {\n",
    "                  'DP02_0154E': 'Number of Households with a broadband Internet subscription',\n",
    "                  'DP02_0154PE':'Percent of Households with a broadband Internet subscription',\n",
    "                  'NAME': 'State Name',\n",
    "                  'state':'GEOID'\n",
    "\n",
    "                  \n",
    "                  \n",
    "                  \n",
    "                  \n",
    "                  \n",
    "                 }\n",
    "\n",
    "df.rename(columns= cols_to_rename, inplace=True)\n",
    "\n",
    "print(df.shape)\n",
    "df"
   ]
  },
  {
   "cell_type": "code",
   "execution_count": 17,
   "id": "d0e07678",
   "metadata": {},
   "outputs": [
    {
     "data": {
      "text/html": [
       "<div>\n",
       "<style scoped>\n",
       "    .dataframe tbody tr th:only-of-type {\n",
       "        vertical-align: middle;\n",
       "    }\n",
       "\n",
       "    .dataframe tbody tr th {\n",
       "        vertical-align: top;\n",
       "    }\n",
       "\n",
       "    .dataframe thead th {\n",
       "        text-align: right;\n",
       "    }\n",
       "</style>\n",
       "<table border=\"1\" class=\"dataframe\">\n",
       "  <thead>\n",
       "    <tr style=\"text-align: right;\">\n",
       "      <th></th>\n",
       "      <th>State Name</th>\n",
       "      <th>Number of Households with a broadband Internet subscription</th>\n",
       "      <th>Percent of Households with a broadband Internet subscription</th>\n",
       "      <th>GEOID</th>\n",
       "    </tr>\n",
       "  </thead>\n",
       "  <tbody>\n",
       "    <tr>\n",
       "      <th>1</th>\n",
       "      <td>Alabama</td>\n",
       "      <td>1619717</td>\n",
       "      <td>83.8</td>\n",
       "      <td>01</td>\n",
       "    </tr>\n",
       "    <tr>\n",
       "      <th>2</th>\n",
       "      <td>Alaska</td>\n",
       "      <td>236265</td>\n",
       "      <td>89.4</td>\n",
       "      <td>02</td>\n",
       "    </tr>\n",
       "    <tr>\n",
       "      <th>3</th>\n",
       "      <td>Arizona</td>\n",
       "      <td>2443288</td>\n",
       "      <td>89.2</td>\n",
       "      <td>04</td>\n",
       "    </tr>\n",
       "    <tr>\n",
       "      <th>4</th>\n",
       "      <td>Arkansas</td>\n",
       "      <td>965688</td>\n",
       "      <td>82.4</td>\n",
       "      <td>05</td>\n",
       "    </tr>\n",
       "    <tr>\n",
       "      <th>5</th>\n",
       "      <td>California</td>\n",
       "      <td>12177584</td>\n",
       "      <td>91.5</td>\n",
       "      <td>06</td>\n",
       "    </tr>\n",
       "  </tbody>\n",
       "</table>\n",
       "</div>"
      ],
      "text/plain": [
       "0  State Name Number of Households with a broadband Internet subscription  \\\n",
       "1     Alabama                                            1619717            \n",
       "2      Alaska                                             236265            \n",
       "3     Arizona                                            2443288            \n",
       "4    Arkansas                                             965688            \n",
       "5  California                                           12177584            \n",
       "\n",
       "0 Percent of Households with a broadband Internet subscription GEOID  \n",
       "1                                               83.8              01  \n",
       "2                                               89.4              02  \n",
       "3                                               89.2              04  \n",
       "4                                               82.4              05  \n",
       "5                                               91.5              06  "
      ]
     },
     "execution_count": 17,
     "metadata": {},
     "output_type": "execute_result"
    }
   ],
   "source": [
    "df.head()"
   ]
  },
  {
   "cell_type": "markdown",
   "id": "10642617",
   "metadata": {},
   "source": [
    "# Uploaded merged data"
   ]
  },
  {
   "cell_type": "code",
   "execution_count": 26,
   "id": "f1fe00e2",
   "metadata": {},
   "outputs": [
    {
     "data": {
      "text/html": [
       "<div>\n",
       "<style scoped>\n",
       "    .dataframe tbody tr th:only-of-type {\n",
       "        vertical-align: middle;\n",
       "    }\n",
       "\n",
       "    .dataframe tbody tr th {\n",
       "        vertical-align: top;\n",
       "    }\n",
       "\n",
       "    .dataframe thead th {\n",
       "        text-align: right;\n",
       "    }\n",
       "</style>\n",
       "<table border=\"1\" class=\"dataframe\">\n",
       "  <thead>\n",
       "    <tr style=\"text-align: right;\">\n",
       "      <th></th>\n",
       "      <th>State Name</th>\n",
       "      <th>Number of Households with a broadband Internet subscription</th>\n",
       "      <th>Percent of Households with a broadband Internet subscription</th>\n",
       "      <th>Abbrev</th>\n",
       "      <th>GEOID</th>\n",
       "    </tr>\n",
       "  </thead>\n",
       "  <tbody>\n",
       "    <tr>\n",
       "      <th>0</th>\n",
       "      <td>Alabama</td>\n",
       "      <td>1619717.0</td>\n",
       "      <td>83.8</td>\n",
       "      <td>AL</td>\n",
       "      <td>1</td>\n",
       "    </tr>\n",
       "    <tr>\n",
       "      <th>1</th>\n",
       "      <td>Alaska</td>\n",
       "      <td>236265.0</td>\n",
       "      <td>89.4</td>\n",
       "      <td>AK</td>\n",
       "      <td>2</td>\n",
       "    </tr>\n",
       "    <tr>\n",
       "      <th>2</th>\n",
       "      <td>Arizona</td>\n",
       "      <td>2443288.0</td>\n",
       "      <td>89.2</td>\n",
       "      <td>AZ</td>\n",
       "      <td>4</td>\n",
       "    </tr>\n",
       "    <tr>\n",
       "      <th>3</th>\n",
       "      <td>Arkansas</td>\n",
       "      <td>965688.0</td>\n",
       "      <td>82.4</td>\n",
       "      <td>AR</td>\n",
       "      <td>5</td>\n",
       "    </tr>\n",
       "    <tr>\n",
       "      <th>4</th>\n",
       "      <td>California</td>\n",
       "      <td>12177584.0</td>\n",
       "      <td>91.5</td>\n",
       "      <td>CA</td>\n",
       "      <td>6</td>\n",
       "    </tr>\n",
       "  </tbody>\n",
       "</table>\n",
       "</div>"
      ],
      "text/plain": [
       "   State Name  Number of Households with a broadband Internet subscription  \\\n",
       "0     Alabama                                          1619717.0             \n",
       "1      Alaska                                           236265.0             \n",
       "2     Arizona                                          2443288.0             \n",
       "3    Arkansas                                           965688.0             \n",
       "4  California                                         12177584.0             \n",
       "\n",
       "   Percent of Households with a broadband Internet subscription Abbrev  GEOID  \n",
       "0                                               83.8                AL      1  \n",
       "1                                               89.4                AK      2  \n",
       "2                                               89.2                AZ      4  \n",
       "3                                               82.4                AR      5  \n",
       "4                                               91.5                CA      6  "
      ]
     },
     "execution_count": 26,
     "metadata": {},
     "output_type": "execute_result"
    }
   ],
   "source": [
    "df_yes = pd.read_csv('Data/StateDatawAbbrev.csv')\n",
    "df_yes.head()"
   ]
  },
  {
   "cell_type": "code",
   "execution_count": 31,
   "id": "a80590f0",
   "metadata": {},
   "outputs": [
    {
     "data": {
      "text/plain": [
       "array([' AL', ' AK', ' AZ', ' AR', ' CA', ' CO', ' CT', ' DE', ' DC',\n",
       "       ' FL', ' GA', ' HI', ' ID', ' IL', ' IN', ' IA', ' KS', ' KY',\n",
       "       ' LA', ' ME', ' MD', ' MA', ' MI', ' MN', ' MS', ' MO', ' MT',\n",
       "       ' NE', ' NV', ' NH', ' NJ', ' NM', ' NY', ' NC', ' ND', ' OH',\n",
       "       ' OK', ' OR', ' PA', ' RI', ' SC', ' SD', ' TN', ' TX', ' UT',\n",
       "       ' VT', ' VA', ' WA', ' WV', ' WI', ' WY', nan], dtype=object)"
      ]
     },
     "execution_count": 31,
     "metadata": {},
     "output_type": "execute_result"
    }
   ],
   "source": [
    "df_yes['Abbrev'].unique()"
   ]
  },
  {
   "cell_type": "markdown",
   "id": "0328f008",
   "metadata": {},
   "source": [
    "### strip abbreviations of whitespace"
   ]
  },
  {
   "cell_type": "code",
   "execution_count": 32,
   "id": "6d08ab1e",
   "metadata": {},
   "outputs": [],
   "source": [
    "df_yes['Abbrev'] = df_yes['Abbrev'].str.strip( )\n"
   ]
  },
  {
   "cell_type": "code",
   "execution_count": 19,
   "id": "1d601760",
   "metadata": {},
   "outputs": [
    {
     "data": {
      "text/plain": [
       "State Name                                                       object\n",
       "Number of Households with a broadband Internet subscription     float64\n",
       "Percent of Households with a broadband Internet subscription    float64\n",
       "Abbrev                                                           object\n",
       "GEOID                                                             int64\n",
       "dtype: object"
      ]
     },
     "execution_count": 19,
     "metadata": {},
     "output_type": "execute_result"
    }
   ],
   "source": [
    "df_yes.dtypes"
   ]
  },
  {
   "cell_type": "code",
   "execution_count": 20,
   "id": "e4477073",
   "metadata": {},
   "outputs": [],
   "source": [
    "df_yes['Percent of Households with a broadband Internet subscription'] = df_yes['Percent of Households with a broadband Internet subscription'].astype(float)\n",
    "df_yes['Number of Households with a broadband Internet subscription'] = df_yes['Number of Households with a broadband Internet subscription'].astype(str)\n",
    "df_yes['Abbrev'] = df_yes['Abbrev'].astype(str)"
   ]
  },
  {
   "cell_type": "markdown",
   "id": "566489c1",
   "metadata": {},
   "source": [
    "# Display the Regions Map"
   ]
  },
  {
   "cell_type": "code",
   "execution_count": 33,
   "id": "b5edae6f",
   "metadata": {},
   "outputs": [
    {
     "data": {
      "application/vnd.plotly.v1+json": {
       "config": {
        "plotlyServerURL": "https://plot.ly"
       },
       "data": [
        {
         "coloraxis": "coloraxis",
         "geo": "geo",
         "hovertemplate": "State Abbreviation=%{location}<br>Percent of Households with a broadband Internet subscription=%{z}<extra></extra>",
         "locationmode": "USA-states",
         "locations": [
          "AL",
          "AK",
          "AZ",
          "AR",
          "CA",
          "CO",
          "CT",
          "DE",
          "DC",
          "FL",
          "GA",
          "HI",
          "ID",
          "IL",
          "IN",
          "IA",
          "KS",
          "KY",
          "LA",
          "ME",
          "MD",
          "MA",
          "MI",
          "MN",
          "MS",
          "MO",
          "MT",
          "NE",
          "NV",
          "NH",
          "NJ",
          "NM",
          "NY",
          "NC",
          "ND",
          "OH",
          "OK",
          "OR",
          "PA",
          "RI",
          "SC",
          "SD",
          "TN",
          "TX",
          "UT",
          "VT",
          "VA",
          "WA",
          "WV",
          "WI",
          "WY",
          null
         ],
         "name": "",
         "type": "choropleth",
         "z": [
          83.8,
          89.4,
          89.2,
          82.4,
          91.5,
          91.8,
          90.1,
          90.3,
          89,
          88.8,
          87.8,
          89.8,
          89.8,
          88.1,
          86.7,
          86.3,
          87.9,
          85.6,
          83,
          87.3,
          90.6,
          90.7,
          87.8,
          89.7,
          80,
          86.6,
          86.6,
          88.4,
          88.7,
          91,
          90.6,
          81.7,
          88.2,
          87,
          85.8,
          87.6,
          85.6,
          90.5,
          87.1,
          89.2,
          85,
          86.8,
          85.7,
          88.4,
          91.9,
          86.1,
          88.7,
          92.1,
          82.7,
          87.7,
          88.2,
          null
         ]
        }
       ],
       "layout": {
        "coloraxis": {
         "colorbar": {
          "title": {
           "text": "Percent of Households with a broadband Internet subscription"
          }
         },
         "colorscale": [
          [
           0,
           "rgb(165,0,38)"
          ],
          [
           0.1,
           "rgb(215,48,39)"
          ],
          [
           0.2,
           "rgb(244,109,67)"
          ],
          [
           0.3,
           "rgb(253,174,97)"
          ],
          [
           0.4,
           "rgb(254,224,139)"
          ],
          [
           0.5,
           "rgb(255,255,191)"
          ],
          [
           0.6,
           "rgb(217,239,139)"
          ],
          [
           0.7,
           "rgb(166,217,106)"
          ],
          [
           0.8,
           "rgb(102,189,99)"
          ],
          [
           0.9,
           "rgb(26,152,80)"
          ],
          [
           1,
           "rgb(0,104,55)"
          ]
         ]
        },
        "geo": {
         "center": {},
         "domain": {
          "x": [
           0,
           1
          ],
          "y": [
           0,
           1
          ]
         },
         "fitbounds": "locations",
         "scope": "usa"
        },
        "legend": {
         "tracegroupgap": 0
        },
        "margin": {
         "b": 0,
         "l": 0,
         "r": 0,
         "t": 40
        },
        "template": {
         "data": {
          "bar": [
           {
            "error_x": {
             "color": "#2a3f5f"
            },
            "error_y": {
             "color": "#2a3f5f"
            },
            "marker": {
             "line": {
              "color": "#E5ECF6",
              "width": 0.5
             },
             "pattern": {
              "fillmode": "overlay",
              "size": 10,
              "solidity": 0.2
             }
            },
            "type": "bar"
           }
          ],
          "barpolar": [
           {
            "marker": {
             "line": {
              "color": "#E5ECF6",
              "width": 0.5
             },
             "pattern": {
              "fillmode": "overlay",
              "size": 10,
              "solidity": 0.2
             }
            },
            "type": "barpolar"
           }
          ],
          "carpet": [
           {
            "aaxis": {
             "endlinecolor": "#2a3f5f",
             "gridcolor": "white",
             "linecolor": "white",
             "minorgridcolor": "white",
             "startlinecolor": "#2a3f5f"
            },
            "baxis": {
             "endlinecolor": "#2a3f5f",
             "gridcolor": "white",
             "linecolor": "white",
             "minorgridcolor": "white",
             "startlinecolor": "#2a3f5f"
            },
            "type": "carpet"
           }
          ],
          "choropleth": [
           {
            "colorbar": {
             "outlinewidth": 0,
             "ticks": ""
            },
            "type": "choropleth"
           }
          ],
          "contour": [
           {
            "colorbar": {
             "outlinewidth": 0,
             "ticks": ""
            },
            "colorscale": [
             [
              0,
              "#0d0887"
             ],
             [
              0.1111111111111111,
              "#46039f"
             ],
             [
              0.2222222222222222,
              "#7201a8"
             ],
             [
              0.3333333333333333,
              "#9c179e"
             ],
             [
              0.4444444444444444,
              "#bd3786"
             ],
             [
              0.5555555555555556,
              "#d8576b"
             ],
             [
              0.6666666666666666,
              "#ed7953"
             ],
             [
              0.7777777777777778,
              "#fb9f3a"
             ],
             [
              0.8888888888888888,
              "#fdca26"
             ],
             [
              1,
              "#f0f921"
             ]
            ],
            "type": "contour"
           }
          ],
          "contourcarpet": [
           {
            "colorbar": {
             "outlinewidth": 0,
             "ticks": ""
            },
            "type": "contourcarpet"
           }
          ],
          "heatmap": [
           {
            "colorbar": {
             "outlinewidth": 0,
             "ticks": ""
            },
            "colorscale": [
             [
              0,
              "#0d0887"
             ],
             [
              0.1111111111111111,
              "#46039f"
             ],
             [
              0.2222222222222222,
              "#7201a8"
             ],
             [
              0.3333333333333333,
              "#9c179e"
             ],
             [
              0.4444444444444444,
              "#bd3786"
             ],
             [
              0.5555555555555556,
              "#d8576b"
             ],
             [
              0.6666666666666666,
              "#ed7953"
             ],
             [
              0.7777777777777778,
              "#fb9f3a"
             ],
             [
              0.8888888888888888,
              "#fdca26"
             ],
             [
              1,
              "#f0f921"
             ]
            ],
            "type": "heatmap"
           }
          ],
          "heatmapgl": [
           {
            "colorbar": {
             "outlinewidth": 0,
             "ticks": ""
            },
            "colorscale": [
             [
              0,
              "#0d0887"
             ],
             [
              0.1111111111111111,
              "#46039f"
             ],
             [
              0.2222222222222222,
              "#7201a8"
             ],
             [
              0.3333333333333333,
              "#9c179e"
             ],
             [
              0.4444444444444444,
              "#bd3786"
             ],
             [
              0.5555555555555556,
              "#d8576b"
             ],
             [
              0.6666666666666666,
              "#ed7953"
             ],
             [
              0.7777777777777778,
              "#fb9f3a"
             ],
             [
              0.8888888888888888,
              "#fdca26"
             ],
             [
              1,
              "#f0f921"
             ]
            ],
            "type": "heatmapgl"
           }
          ],
          "histogram": [
           {
            "marker": {
             "pattern": {
              "fillmode": "overlay",
              "size": 10,
              "solidity": 0.2
             }
            },
            "type": "histogram"
           }
          ],
          "histogram2d": [
           {
            "colorbar": {
             "outlinewidth": 0,
             "ticks": ""
            },
            "colorscale": [
             [
              0,
              "#0d0887"
             ],
             [
              0.1111111111111111,
              "#46039f"
             ],
             [
              0.2222222222222222,
              "#7201a8"
             ],
             [
              0.3333333333333333,
              "#9c179e"
             ],
             [
              0.4444444444444444,
              "#bd3786"
             ],
             [
              0.5555555555555556,
              "#d8576b"
             ],
             [
              0.6666666666666666,
              "#ed7953"
             ],
             [
              0.7777777777777778,
              "#fb9f3a"
             ],
             [
              0.8888888888888888,
              "#fdca26"
             ],
             [
              1,
              "#f0f921"
             ]
            ],
            "type": "histogram2d"
           }
          ],
          "histogram2dcontour": [
           {
            "colorbar": {
             "outlinewidth": 0,
             "ticks": ""
            },
            "colorscale": [
             [
              0,
              "#0d0887"
             ],
             [
              0.1111111111111111,
              "#46039f"
             ],
             [
              0.2222222222222222,
              "#7201a8"
             ],
             [
              0.3333333333333333,
              "#9c179e"
             ],
             [
              0.4444444444444444,
              "#bd3786"
             ],
             [
              0.5555555555555556,
              "#d8576b"
             ],
             [
              0.6666666666666666,
              "#ed7953"
             ],
             [
              0.7777777777777778,
              "#fb9f3a"
             ],
             [
              0.8888888888888888,
              "#fdca26"
             ],
             [
              1,
              "#f0f921"
             ]
            ],
            "type": "histogram2dcontour"
           }
          ],
          "mesh3d": [
           {
            "colorbar": {
             "outlinewidth": 0,
             "ticks": ""
            },
            "type": "mesh3d"
           }
          ],
          "parcoords": [
           {
            "line": {
             "colorbar": {
              "outlinewidth": 0,
              "ticks": ""
             }
            },
            "type": "parcoords"
           }
          ],
          "pie": [
           {
            "automargin": true,
            "type": "pie"
           }
          ],
          "scatter": [
           {
            "fillpattern": {
             "fillmode": "overlay",
             "size": 10,
             "solidity": 0.2
            },
            "type": "scatter"
           }
          ],
          "scatter3d": [
           {
            "line": {
             "colorbar": {
              "outlinewidth": 0,
              "ticks": ""
             }
            },
            "marker": {
             "colorbar": {
              "outlinewidth": 0,
              "ticks": ""
             }
            },
            "type": "scatter3d"
           }
          ],
          "scattercarpet": [
           {
            "marker": {
             "colorbar": {
              "outlinewidth": 0,
              "ticks": ""
             }
            },
            "type": "scattercarpet"
           }
          ],
          "scattergeo": [
           {
            "marker": {
             "colorbar": {
              "outlinewidth": 0,
              "ticks": ""
             }
            },
            "type": "scattergeo"
           }
          ],
          "scattergl": [
           {
            "marker": {
             "colorbar": {
              "outlinewidth": 0,
              "ticks": ""
             }
            },
            "type": "scattergl"
           }
          ],
          "scattermapbox": [
           {
            "marker": {
             "colorbar": {
              "outlinewidth": 0,
              "ticks": ""
             }
            },
            "type": "scattermapbox"
           }
          ],
          "scatterpolar": [
           {
            "marker": {
             "colorbar": {
              "outlinewidth": 0,
              "ticks": ""
             }
            },
            "type": "scatterpolar"
           }
          ],
          "scatterpolargl": [
           {
            "marker": {
             "colorbar": {
              "outlinewidth": 0,
              "ticks": ""
             }
            },
            "type": "scatterpolargl"
           }
          ],
          "scatterternary": [
           {
            "marker": {
             "colorbar": {
              "outlinewidth": 0,
              "ticks": ""
             }
            },
            "type": "scatterternary"
           }
          ],
          "surface": [
           {
            "colorbar": {
             "outlinewidth": 0,
             "ticks": ""
            },
            "colorscale": [
             [
              0,
              "#0d0887"
             ],
             [
              0.1111111111111111,
              "#46039f"
             ],
             [
              0.2222222222222222,
              "#7201a8"
             ],
             [
              0.3333333333333333,
              "#9c179e"
             ],
             [
              0.4444444444444444,
              "#bd3786"
             ],
             [
              0.5555555555555556,
              "#d8576b"
             ],
             [
              0.6666666666666666,
              "#ed7953"
             ],
             [
              0.7777777777777778,
              "#fb9f3a"
             ],
             [
              0.8888888888888888,
              "#fdca26"
             ],
             [
              1,
              "#f0f921"
             ]
            ],
            "type": "surface"
           }
          ],
          "table": [
           {
            "cells": {
             "fill": {
              "color": "#EBF0F8"
             },
             "line": {
              "color": "white"
             }
            },
            "header": {
             "fill": {
              "color": "#C8D4E3"
             },
             "line": {
              "color": "white"
             }
            },
            "type": "table"
           }
          ]
         },
         "layout": {
          "annotationdefaults": {
           "arrowcolor": "#2a3f5f",
           "arrowhead": 0,
           "arrowwidth": 1
          },
          "autotypenumbers": "strict",
          "coloraxis": {
           "colorbar": {
            "outlinewidth": 0,
            "ticks": ""
           }
          },
          "colorscale": {
           "diverging": [
            [
             0,
             "#8e0152"
            ],
            [
             0.1,
             "#c51b7d"
            ],
            [
             0.2,
             "#de77ae"
            ],
            [
             0.3,
             "#f1b6da"
            ],
            [
             0.4,
             "#fde0ef"
            ],
            [
             0.5,
             "#f7f7f7"
            ],
            [
             0.6,
             "#e6f5d0"
            ],
            [
             0.7,
             "#b8e186"
            ],
            [
             0.8,
             "#7fbc41"
            ],
            [
             0.9,
             "#4d9221"
            ],
            [
             1,
             "#276419"
            ]
           ],
           "sequential": [
            [
             0,
             "#0d0887"
            ],
            [
             0.1111111111111111,
             "#46039f"
            ],
            [
             0.2222222222222222,
             "#7201a8"
            ],
            [
             0.3333333333333333,
             "#9c179e"
            ],
            [
             0.4444444444444444,
             "#bd3786"
            ],
            [
             0.5555555555555556,
             "#d8576b"
            ],
            [
             0.6666666666666666,
             "#ed7953"
            ],
            [
             0.7777777777777778,
             "#fb9f3a"
            ],
            [
             0.8888888888888888,
             "#fdca26"
            ],
            [
             1,
             "#f0f921"
            ]
           ],
           "sequentialminus": [
            [
             0,
             "#0d0887"
            ],
            [
             0.1111111111111111,
             "#46039f"
            ],
            [
             0.2222222222222222,
             "#7201a8"
            ],
            [
             0.3333333333333333,
             "#9c179e"
            ],
            [
             0.4444444444444444,
             "#bd3786"
            ],
            [
             0.5555555555555556,
             "#d8576b"
            ],
            [
             0.6666666666666666,
             "#ed7953"
            ],
            [
             0.7777777777777778,
             "#fb9f3a"
            ],
            [
             0.8888888888888888,
             "#fdca26"
            ],
            [
             1,
             "#f0f921"
            ]
           ]
          },
          "colorway": [
           "#636efa",
           "#EF553B",
           "#00cc96",
           "#ab63fa",
           "#FFA15A",
           "#19d3f3",
           "#FF6692",
           "#B6E880",
           "#FF97FF",
           "#FECB52"
          ],
          "font": {
           "color": "#2a3f5f"
          },
          "geo": {
           "bgcolor": "white",
           "lakecolor": "white",
           "landcolor": "#E5ECF6",
           "showlakes": true,
           "showland": true,
           "subunitcolor": "white"
          },
          "hoverlabel": {
           "align": "left"
          },
          "hovermode": "closest",
          "mapbox": {
           "style": "light"
          },
          "paper_bgcolor": "white",
          "plot_bgcolor": "#E5ECF6",
          "polar": {
           "angularaxis": {
            "gridcolor": "white",
            "linecolor": "white",
            "ticks": ""
           },
           "bgcolor": "#E5ECF6",
           "radialaxis": {
            "gridcolor": "white",
            "linecolor": "white",
            "ticks": ""
           }
          },
          "scene": {
           "xaxis": {
            "backgroundcolor": "#E5ECF6",
            "gridcolor": "white",
            "gridwidth": 2,
            "linecolor": "white",
            "showbackground": true,
            "ticks": "",
            "zerolinecolor": "white"
           },
           "yaxis": {
            "backgroundcolor": "#E5ECF6",
            "gridcolor": "white",
            "gridwidth": 2,
            "linecolor": "white",
            "showbackground": true,
            "ticks": "",
            "zerolinecolor": "white"
           },
           "zaxis": {
            "backgroundcolor": "#E5ECF6",
            "gridcolor": "white",
            "gridwidth": 2,
            "linecolor": "white",
            "showbackground": true,
            "ticks": "",
            "zerolinecolor": "white"
           }
          },
          "shapedefaults": {
           "line": {
            "color": "#2a3f5f"
           }
          },
          "ternary": {
           "aaxis": {
            "gridcolor": "white",
            "linecolor": "white",
            "ticks": ""
           },
           "baxis": {
            "gridcolor": "white",
            "linecolor": "white",
            "ticks": ""
           },
           "bgcolor": "#E5ECF6",
           "caxis": {
            "gridcolor": "white",
            "linecolor": "white",
            "ticks": ""
           }
          },
          "title": {
           "x": 0.05
          },
          "xaxis": {
           "automargin": true,
           "gridcolor": "white",
           "linecolor": "white",
           "ticks": "",
           "title": {
            "standoff": 15
           },
           "zerolinecolor": "white",
           "zerolinewidth": 2
          },
          "yaxis": {
           "automargin": true,
           "gridcolor": "white",
           "linecolor": "white",
           "ticks": "",
           "title": {
            "standoff": 15
           },
           "zerolinecolor": "white",
           "zerolinewidth": 2
          }
         }
        },
        "title": {
         "text": "Percent of Households with a Broadband Internet (2022)"
        }
       }
      }
     },
     "metadata": {},
     "output_type": "display_data"
    }
   ],
   "source": [
    "fig = px.choropleth(\n",
    "                    df_yes,\n",
    "                    locationmode='USA-states',  \n",
    "                    scope='usa',\n",
    "                    locations='Abbrev',\n",
    "                    labels = {'Abbrev':'State Abbreviation'},  \n",
    "                    color='Percent of Households with a broadband Internet subscription',  \n",
    "                    color_continuous_scale='rdylgn',  \n",
    "                    title=\"Percent of Households with a Broadband Internet (2022)\"\n",
    ")\n",
    "\n",
    "fig.update_geos(fitbounds='locations', scope= 'usa')\n",
    "fig.update_layout(margin={\"r\":0, \"t\":40, \"l\":0, \"b\":0})\n",
    "fig.show()"
   ]
  },
  {
   "cell_type": "code",
   "execution_count": null,
   "id": "416d5707",
   "metadata": {},
   "outputs": [],
   "source": [
    "csv_file_to_create = \"States.csv\"\n",
    "\n",
    "filename_with_path = \"Data/\" + csv_file_to_create\n",
    "df.to_csv(filename_with_path, index=False)"
   ]
  }
 ],
 "metadata": {
  "kernelspec": {
   "display_name": "Cis340_Fall_2022",
   "language": "python",
   "name": "python3"
  },
  "language_info": {
   "codemirror_mode": {
    "name": "ipython",
    "version": 3
   },
   "file_extension": ".py",
   "mimetype": "text/x-python",
   "name": "python",
   "nbconvert_exporter": "python",
   "pygments_lexer": "ipython3",
   "version": "3.11.7"
  },
  "vscode": {
   "interpreter": {
    "hash": "426c03df16ead08d896f83ef39e25467a46f39b961906caffdc3fd6183b9ccc5"
   }
  }
 },
 "nbformat": 4,
 "nbformat_minor": 5
}
